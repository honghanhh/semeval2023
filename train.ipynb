{
 "cells": [
  {
   "cell_type": "code",
   "execution_count": 1,
   "id": "c7e395a4-7bb1-4e51-9e1c-6551ba87c4ba",
   "metadata": {},
   "outputs": [],
   "source": [
    "import os\n",
    "os.environ[\"CUDA_VISIBLE_DEVICES\"]='5'\n",
    "import torch  \n",
    "torch.manual_seed(3407)\n",
    "import random\n",
    "random.seed(3407)\n",
    "import numpy as np\n",
    "np.random.seed(3407)\n",
    "\n",
    "import logging\n",
    "import pandas as pd\n",
    "from seq2seq_model import Seq2SeqModel\n",
    "logging.basicConfig(level=logging.INFO)\n",
    "transformers_logger = logging.getLogger(\"transformers\")\n",
    "transformers_logger.setLevel(logging.WARNING)"
   ]
  },
  {
   "cell_type": "code",
   "execution_count": 2,
   "id": "f3dcb707-c175-4343-8c09-685c1ce53adb",
   "metadata": {},
   "outputs": [],
   "source": [
    "train_data = pd.read_csv(\"./templated_data/en-train.csv\").values.tolist()\n",
    "train_df = pd.DataFrame(train_data, columns=[\"input_text\", \"target_text\"])\n",
    "\n",
    "eval_data = pd.read_csv(\"./templated_data/en-dev.csv\").values.tolist()\n",
    "eval_df = pd.DataFrame(eval_data, columns=[\"input_text\", \"target_text\"])\n",
    "\n",
    "model_args = {\n",
    "    \"reprocess_input_data\": True,\n",
    "    \"overwrite_output_dir\": True,\n",
    "    \"max_seq_length\": 50,\n",
    "    \"train_batch_size\": 100,\n",
    "    \"num_train_epochs\": 20,\n",
    "    \"save_eval_checkpoints\": False,\n",
    "    \"save_model_every_epoch\": False,\n",
    "    \"evaluate_during_training\": True,\n",
    "    \"evaluate_generated_text\": True,\n",
    "    \"evaluate_during_training_verbose\": True,\n",
    "    \"use_multiprocessing\": False,\n",
    "    \"max_length\": 25,\n",
    "    \"manual_seed\": 4,\n",
    "    \"save_steps\": 11898,\n",
    "    \"gradient_accumulation_steps\": 1,\n",
    "    \"output_dir\": \"./exp/template\",\n",
    "    # \"num_labels\":33\n",
    "}\n",
    "\n",
    "# Initialize model\n",
    "model = Seq2SeqModel(\n",
    "    encoder_decoder_type=\"bart\",\n",
    "    encoder_decoder_name=\"facebook/bart-large\",\n",
    "    args=model_args,\n",
    "    # use_cuda=False,\n",
    ")"
   ]
  },
  {
   "cell_type": "code",
   "execution_count": 3,
   "id": "d7c31e09-1c9b-4e00-aa3a-2fe53207aa2e",
   "metadata": {},
   "outputs": [
    {
     "data": {
      "text/plain": [
       "BartConfig {\n",
       "  \"_name_or_path\": \"facebook/bart-large\",\n",
       "  \"activation_dropout\": 0.1,\n",
       "  \"activation_function\": \"gelu\",\n",
       "  \"add_bias_logits\": false,\n",
       "  \"add_final_layer_norm\": false,\n",
       "  \"architectures\": [\n",
       "    \"BartModel\"\n",
       "  ],\n",
       "  \"attention_dropout\": 0.1,\n",
       "  \"bos_token_id\": 0,\n",
       "  \"classif_dropout\": 0.1,\n",
       "  \"classifier_dropout\": 0.0,\n",
       "  \"d_model\": 1024,\n",
       "  \"decoder_attention_heads\": 16,\n",
       "  \"decoder_ffn_dim\": 4096,\n",
       "  \"decoder_layerdrop\": 0.0,\n",
       "  \"decoder_layers\": 12,\n",
       "  \"decoder_start_token_id\": 2,\n",
       "  \"dropout\": 0.1,\n",
       "  \"early_stopping\": true,\n",
       "  \"encoder_attention_heads\": 16,\n",
       "  \"encoder_ffn_dim\": 4096,\n",
       "  \"encoder_layerdrop\": 0.0,\n",
       "  \"encoder_layers\": 12,\n",
       "  \"eos_token_id\": 2,\n",
       "  \"forced_bos_token_id\": 0,\n",
       "  \"forced_eos_token_id\": 2,\n",
       "  \"gradient_checkpointing\": false,\n",
       "  \"id2label\": {\n",
       "    \"0\": \"LABEL_0\",\n",
       "    \"1\": \"LABEL_1\",\n",
       "    \"2\": \"LABEL_2\"\n",
       "  },\n",
       "  \"init_std\": 0.02,\n",
       "  \"is_encoder_decoder\": true,\n",
       "  \"label2id\": {\n",
       "    \"LABEL_0\": 0,\n",
       "    \"LABEL_1\": 1,\n",
       "    \"LABEL_2\": 2\n",
       "  },\n",
       "  \"max_position_embeddings\": 1024,\n",
       "  \"model_type\": \"bart\",\n",
       "  \"no_repeat_ngram_size\": 3,\n",
       "  \"normalize_before\": false,\n",
       "  \"num_beams\": 4,\n",
       "  \"num_hidden_layers\": 12,\n",
       "  \"pad_token_id\": 1,\n",
       "  \"scale_embedding\": false,\n",
       "  \"task_specific_params\": {\n",
       "    \"summarization\": {\n",
       "      \"length_penalty\": 1.0,\n",
       "      \"max_length\": 128,\n",
       "      \"min_length\": 12,\n",
       "      \"num_beams\": 4\n",
       "    },\n",
       "    \"summarization_cnn\": {\n",
       "      \"length_penalty\": 2.0,\n",
       "      \"max_length\": 142,\n",
       "      \"min_length\": 56,\n",
       "      \"num_beams\": 4\n",
       "    },\n",
       "    \"summarization_xsum\": {\n",
       "      \"length_penalty\": 1.0,\n",
       "      \"max_length\": 62,\n",
       "      \"min_length\": 11,\n",
       "      \"num_beams\": 6\n",
       "    }\n",
       "  },\n",
       "  \"transformers_version\": \"4.19.2\",\n",
       "  \"use_cache\": true,\n",
       "  \"vocab_size\": 50265\n",
       "}"
      ]
     },
     "execution_count": 3,
     "metadata": {},
     "output_type": "execute_result"
    }
   ],
   "source": [
    "model.config"
   ]
  },
  {
   "cell_type": "code",
   "execution_count": 4,
   "id": "fe41ce73-4818-468a-af02-f0111d89d90b",
   "metadata": {},
   "outputs": [
    {
     "name": "stderr",
     "output_type": "stream",
     "text": [
      "INFO:seq2seq_utils: Creating features from dataset file at cache_dir/\n"
     ]
    },
    {
     "data": {
      "application/vnd.jupyter.widget-view+json": {
       "model_id": "390c6a54c2064770bba044b5fa61b5da",
       "version_major": 2,
       "version_minor": 0
      },
      "text/plain": [
       "  0%|          | 0/25224 [00:00<?, ?it/s]"
      ]
     },
     "metadata": {},
     "output_type": "display_data"
    },
    {
     "name": "stderr",
     "output_type": "stream",
     "text": [
      "/home/tranthh/anaconda3/envs/template/lib/python3.7/site-packages/transformers/optimization.py:309: FutureWarning: This implementation of AdamW is deprecated and will be removed in a future version. Use the PyTorch implementation torch.optim.AdamW instead, or set `no_deprecation_warning=True` to disable this warning\n",
      "  FutureWarning,\n",
      "INFO:seq2seq_model: Training started\n"
     ]
    },
    {
     "data": {
      "application/vnd.jupyter.widget-view+json": {
       "model_id": "b35cdd774214486ca4d6be559dc95bb3",
       "version_major": 2,
       "version_minor": 0
      },
      "text/plain": [
       "Epoch:   0%|          | 0/20 [00:00<?, ?it/s]"
      ]
     },
     "metadata": {},
     "output_type": "display_data"
    },
    {
     "data": {
      "application/vnd.jupyter.widget-view+json": {
       "model_id": "85388d0359ba429094c9f0ef29f5608f",
       "version_major": 2,
       "version_minor": 0
      },
      "text/plain": [
       "Running Epoch 0 of 20:   0%|          | 0/253 [00:00<?, ?it/s]"
      ]
     },
     "metadata": {},
     "output_type": "display_data"
    },
    {
     "name": "stderr",
     "output_type": "stream",
     "text": [
      "/home/tranthh/semeval2023/seq2seq_model.py:483: FutureWarning: Non-finite norm encountered in torch.nn.utils.clip_grad_norm_; continuing anyway. Note that the default behavior will change in a future release to error out if a non-finite total norm is encountered. At that point, setting error_if_nonfinite=false will be required to retain the old behavior.\n",
      "  torch.nn.utils.clip_grad_norm_(model.parameters(), args.max_grad_norm)\n",
      "/home/tranthh/anaconda3/envs/template/lib/python3.7/site-packages/torch/optim/lr_scheduler.py:134: UserWarning: Detected call of `lr_scheduler.step()` before `optimizer.step()`. In PyTorch 1.1.0 and later, you should call them in the opposite order: `optimizer.step()` before `lr_scheduler.step()`.  Failure to do this will result in PyTorch skipping the first value of the learning rate schedule. See more details at https://pytorch.org/docs/stable/optim.html#how-to-adjust-learning-rate\n",
      "  \"https://pytorch.org/docs/stable/optim.html#how-to-adjust-learning-rate\", UserWarning)\n",
      "/home/tranthh/anaconda3/envs/template/lib/python3.7/site-packages/torch/optim/lr_scheduler.py:247: UserWarning: To get the last learning rate computed by the scheduler, please use `get_last_lr()`.\n",
      "  warnings.warn(\"To get the last learning rate computed by the scheduler, \"\n",
      "INFO:seq2seq_utils: Creating features from dataset file at cache_dir/\n"
     ]
    },
    {
     "data": {
      "application/vnd.jupyter.widget-view+json": {
       "model_id": "bf4bd003b27e49339bf640c4608de00c",
       "version_major": 2,
       "version_minor": 0
      },
      "text/plain": [
       "  0%|          | 0/1284 [00:00<?, ?it/s]"
      ]
     },
     "metadata": {},
     "output_type": "display_data"
    },
    {
     "name": "stderr",
     "output_type": "stream",
     "text": [
      "INFO:seq2seq_model:{'eval_loss': 0.31893494938101086, 'eval_acc': 0.9090489025798999}\n",
      "INFO:seq2seq_model:Saving model into outputs/best_model\n"
     ]
    },
    {
     "data": {
      "application/vnd.jupyter.widget-view+json": {
       "model_id": "3dd69619565b481fa2c62f8934392012",
       "version_major": 2,
       "version_minor": 0
      },
      "text/plain": [
       "Running Epoch 1 of 20:   0%|          | 0/253 [00:00<?, ?it/s]"
      ]
     },
     "metadata": {},
     "output_type": "display_data"
    },
    {
     "name": "stderr",
     "output_type": "stream",
     "text": [
      "INFO:seq2seq_utils: Creating features from dataset file at cache_dir/\n"
     ]
    },
    {
     "data": {
      "application/vnd.jupyter.widget-view+json": {
       "model_id": "65e7dcd7d9fe43569c46731dfd4c8329",
       "version_major": 2,
       "version_minor": 0
      },
      "text/plain": [
       "  0%|          | 0/1284 [00:00<?, ?it/s]"
      ]
     },
     "metadata": {},
     "output_type": "display_data"
    },
    {
     "name": "stderr",
     "output_type": "stream",
     "text": [
      "INFO:seq2seq_model:{'eval_loss': 0.25947871246600746, 'eval_acc': 0.91998459761263}\n",
      "INFO:seq2seq_model:Saving model into outputs/best_model\n"
     ]
    },
    {
     "data": {
      "application/vnd.jupyter.widget-view+json": {
       "model_id": "fbb113b0a6d741768af20f6148827f8e",
       "version_major": 2,
       "version_minor": 0
      },
      "text/plain": [
       "Running Epoch 2 of 20:   0%|          | 0/253 [00:00<?, ?it/s]"
      ]
     },
     "metadata": {},
     "output_type": "display_data"
    },
    {
     "name": "stderr",
     "output_type": "stream",
     "text": [
      "INFO:seq2seq_utils: Creating features from dataset file at cache_dir/\n"
     ]
    },
    {
     "data": {
      "application/vnd.jupyter.widget-view+json": {
       "model_id": "40547187c08f44ac9b970cf06300d7dc",
       "version_major": 2,
       "version_minor": 0
      },
      "text/plain": [
       "  0%|          | 0/1284 [00:00<?, ?it/s]"
      ]
     },
     "metadata": {},
     "output_type": "display_data"
    },
    {
     "name": "stderr",
     "output_type": "stream",
     "text": [
      "INFO:seq2seq_model:{'eval_loss': 0.25699868328545405, 'eval_acc': 0.9249133615710435}\n",
      "INFO:seq2seq_model:Saving model into outputs/best_model\n"
     ]
    },
    {
     "data": {
      "application/vnd.jupyter.widget-view+json": {
       "model_id": "6f04f3efc1164085a24eb92b356fd003",
       "version_major": 2,
       "version_minor": 0
      },
      "text/plain": [
       "Running Epoch 3 of 20:   0%|          | 0/253 [00:00<?, ?it/s]"
      ]
     },
     "metadata": {},
     "output_type": "display_data"
    },
    {
     "name": "stderr",
     "output_type": "stream",
     "text": [
      "INFO:seq2seq_utils: Creating features from dataset file at cache_dir/\n"
     ]
    },
    {
     "data": {
      "application/vnd.jupyter.widget-view+json": {
       "model_id": "9dc6949d40f742719fd56528abe1e38f",
       "version_major": 2,
       "version_minor": 0
      },
      "text/plain": [
       "  0%|          | 0/1284 [00:00<?, ?it/s]"
      ]
     },
     "metadata": {},
     "output_type": "display_data"
    },
    {
     "name": "stderr",
     "output_type": "stream",
     "text": [
      "INFO:seq2seq_model:{'eval_loss': 0.2674537917240436, 'eval_acc': 0.9219869079707355}\n"
     ]
    },
    {
     "data": {
      "application/vnd.jupyter.widget-view+json": {
       "model_id": "ea9d62bdabc748c198ed63d5eecbb149",
       "version_major": 2,
       "version_minor": 0
      },
      "text/plain": [
       "Running Epoch 4 of 20:   0%|          | 0/253 [00:00<?, ?it/s]"
      ]
     },
     "metadata": {},
     "output_type": "display_data"
    },
    {
     "name": "stderr",
     "output_type": "stream",
     "text": [
      "INFO:seq2seq_utils: Creating features from dataset file at cache_dir/\n"
     ]
    },
    {
     "data": {
      "application/vnd.jupyter.widget-view+json": {
       "model_id": "e52bbbcfddbc499d95429acb8346bc2c",
       "version_major": 2,
       "version_minor": 0
      },
      "text/plain": [
       "  0%|          | 0/1284 [00:00<?, ?it/s]"
      ]
     },
     "metadata": {},
     "output_type": "display_data"
    },
    {
     "name": "stderr",
     "output_type": "stream",
     "text": [
      "INFO:seq2seq_model:{'eval_loss': 0.2836513363102578, 'eval_acc': 0.924374278013092}\n"
     ]
    },
    {
     "data": {
      "application/vnd.jupyter.widget-view+json": {
       "model_id": "974c0b670a164555b54663d7200e20cf",
       "version_major": 2,
       "version_minor": 0
      },
      "text/plain": [
       "Running Epoch 5 of 20:   0%|          | 0/253 [00:00<?, ?it/s]"
      ]
     },
     "metadata": {},
     "output_type": "display_data"
    },
    {
     "name": "stderr",
     "output_type": "stream",
     "text": [
      "INFO:seq2seq_utils: Creating features from dataset file at cache_dir/\n"
     ]
    },
    {
     "data": {
      "application/vnd.jupyter.widget-view+json": {
       "model_id": "314650b5b2c646c9a8cd7447dafdc0d1",
       "version_major": 2,
       "version_minor": 0
      },
      "text/plain": [
       "  0%|          | 0/1284 [00:00<?, ?it/s]"
      ]
     },
     "metadata": {},
     "output_type": "display_data"
    },
    {
     "name": "stderr",
     "output_type": "stream",
     "text": [
      "INFO:seq2seq_model:{'eval_loss': 0.294633080130038, 'eval_acc': 0.9239122063919908}\n"
     ]
    },
    {
     "data": {
      "application/vnd.jupyter.widget-view+json": {
       "model_id": "c01f6adbdd2b48988401172d76543eea",
       "version_major": 2,
       "version_minor": 0
      },
      "text/plain": [
       "Running Epoch 6 of 20:   0%|          | 0/253 [00:00<?, ?it/s]"
      ]
     },
     "metadata": {},
     "output_type": "display_data"
    },
    {
     "name": "stderr",
     "output_type": "stream",
     "text": [
      "INFO:seq2seq_utils: Creating features from dataset file at cache_dir/\n"
     ]
    },
    {
     "data": {
      "application/vnd.jupyter.widget-view+json": {
       "model_id": "d279b427a0714ab2956826be9e911453",
       "version_major": 2,
       "version_minor": 0
      },
      "text/plain": [
       "  0%|          | 0/1284 [00:00<?, ?it/s]"
      ]
     },
     "metadata": {},
     "output_type": "display_data"
    },
    {
     "name": "stderr",
     "output_type": "stream",
     "text": [
      "INFO:seq2seq_model:{'eval_loss': 0.3233650849426385, 'eval_acc': 0.9244512899499422}\n"
     ]
    },
    {
     "data": {
      "application/vnd.jupyter.widget-view+json": {
       "model_id": "07689e004b17461db2b637cb209906a5",
       "version_major": 2,
       "version_minor": 0
      },
      "text/plain": [
       "Running Epoch 7 of 20:   0%|          | 0/253 [00:00<?, ?it/s]"
      ]
     },
     "metadata": {},
     "output_type": "display_data"
    },
    {
     "name": "stderr",
     "output_type": "stream",
     "text": [
      "INFO:seq2seq_utils: Creating features from dataset file at cache_dir/\n"
     ]
    },
    {
     "data": {
      "application/vnd.jupyter.widget-view+json": {
       "model_id": "6209b4b727604dd19eef6078c5229375",
       "version_major": 2,
       "version_minor": 0
      },
      "text/plain": [
       "  0%|          | 0/1284 [00:00<?, ?it/s]"
      ]
     },
     "metadata": {},
     "output_type": "display_data"
    },
    {
     "name": "stderr",
     "output_type": "stream",
     "text": [
      "INFO:seq2seq_model:{'eval_loss': 0.3239800650279344, 'eval_acc': 0.9229880631497882}\n",
      "INFO:seq2seq_utils: Creating features from dataset file at cache_dir/\n"
     ]
    },
    {
     "data": {
      "application/vnd.jupyter.widget-view+json": {
       "model_id": "d5f48f0f4fe3407e8914cae2fc17b988",
       "version_major": 2,
       "version_minor": 0
      },
      "text/plain": [
       "  0%|          | 0/1284 [00:00<?, ?it/s]"
      ]
     },
     "metadata": {},
     "output_type": "display_data"
    },
    {
     "name": "stderr",
     "output_type": "stream",
     "text": [
      "INFO:seq2seq_model:{'eval_loss': 0.3153576129202887, 'eval_acc': 0.9244512899499422}\n"
     ]
    },
    {
     "data": {
      "application/vnd.jupyter.widget-view+json": {
       "model_id": "84dd73119fc1479a8d961a3e539439c6",
       "version_major": 2,
       "version_minor": 0
      },
      "text/plain": [
       "Running Epoch 8 of 20:   0%|          | 0/253 [00:00<?, ?it/s]"
      ]
     },
     "metadata": {},
     "output_type": "display_data"
    },
    {
     "name": "stderr",
     "output_type": "stream",
     "text": [
      "INFO:seq2seq_utils: Creating features from dataset file at cache_dir/\n"
     ]
    },
    {
     "data": {
      "application/vnd.jupyter.widget-view+json": {
       "model_id": "e9d45cf3544844fa9f21509dbcf73092",
       "version_major": 2,
       "version_minor": 0
      },
      "text/plain": [
       "  0%|          | 0/1284 [00:00<?, ?it/s]"
      ]
     },
     "metadata": {},
     "output_type": "display_data"
    },
    {
     "name": "stderr",
     "output_type": "stream",
     "text": [
      "INFO:seq2seq_model:{'eval_loss': 0.34357810943670897, 'eval_acc': 0.9266076241817481}\n"
     ]
    },
    {
     "data": {
      "application/vnd.jupyter.widget-view+json": {
       "model_id": "94ddcaed52fe4d29b9366f717e859594",
       "version_major": 2,
       "version_minor": 0
      },
      "text/plain": [
       "Running Epoch 9 of 20:   0%|          | 0/253 [00:00<?, ?it/s]"
      ]
     },
     "metadata": {},
     "output_type": "display_data"
    },
    {
     "name": "stderr",
     "output_type": "stream",
     "text": [
      "INFO:seq2seq_utils: Creating features from dataset file at cache_dir/\n"
     ]
    },
    {
     "data": {
      "application/vnd.jupyter.widget-view+json": {
       "model_id": "93c741f0f6694fadbcb9a3878f02680e",
       "version_major": 2,
       "version_minor": 0
      },
      "text/plain": [
       "  0%|          | 0/1284 [00:00<?, ?it/s]"
      ]
     },
     "metadata": {},
     "output_type": "display_data"
    },
    {
     "name": "stderr",
     "output_type": "stream",
     "text": [
      "INFO:seq2seq_model:{'eval_loss': 0.3370363715087405, 'eval_acc': 0.9270696958028495}\n"
     ]
    },
    {
     "data": {
      "application/vnd.jupyter.widget-view+json": {
       "model_id": "5a71f566bba74254af514dc5a5b17626",
       "version_major": 2,
       "version_minor": 0
      },
      "text/plain": [
       "Running Epoch 10 of 20:   0%|          | 0/253 [00:00<?, ?it/s]"
      ]
     },
     "metadata": {},
     "output_type": "display_data"
    },
    {
     "name": "stderr",
     "output_type": "stream",
     "text": [
      "INFO:seq2seq_utils: Creating features from dataset file at cache_dir/\n"
     ]
    },
    {
     "data": {
      "application/vnd.jupyter.widget-view+json": {
       "model_id": "e51081282ded427fb5ac4ecf0a2c11a9",
       "version_major": 2,
       "version_minor": 0
      },
      "text/plain": [
       "  0%|          | 0/1284 [00:00<?, ?it/s]"
      ]
     },
     "metadata": {},
     "output_type": "display_data"
    },
    {
     "name": "stderr",
     "output_type": "stream",
     "text": [
      "INFO:seq2seq_model:{'eval_loss': 0.3541497187399716, 'eval_acc': 0.9273007316134001}\n"
     ]
    },
    {
     "data": {
      "application/vnd.jupyter.widget-view+json": {
       "model_id": "7796a7f50d7642c9bb44ce72d9789f61",
       "version_major": 2,
       "version_minor": 0
      },
      "text/plain": [
       "Running Epoch 11 of 20:   0%|          | 0/253 [00:00<?, ?it/s]"
      ]
     },
     "metadata": {},
     "output_type": "display_data"
    },
    {
     "name": "stderr",
     "output_type": "stream",
     "text": [
      "INFO:seq2seq_utils: Creating features from dataset file at cache_dir/\n"
     ]
    },
    {
     "data": {
      "application/vnd.jupyter.widget-view+json": {
       "model_id": "1ca9383ca5b7417eb22eac1b2e7e2ce7",
       "version_major": 2,
       "version_minor": 0
      },
      "text/plain": [
       "  0%|          | 0/1284 [00:00<?, ?it/s]"
      ]
     },
     "metadata": {},
     "output_type": "display_data"
    },
    {
     "name": "stderr",
     "output_type": "stream",
     "text": [
      "INFO:seq2seq_model:{'eval_loss': 0.3845473116391009, 'eval_acc': 0.9266076241817481}\n"
     ]
    },
    {
     "data": {
      "application/vnd.jupyter.widget-view+json": {
       "model_id": "3ff0d45ba8244f1a99d4bce81509a316",
       "version_major": 2,
       "version_minor": 0
      },
      "text/plain": [
       "Running Epoch 12 of 20:   0%|          | 0/253 [00:00<?, ?it/s]"
      ]
     },
     "metadata": {},
     "output_type": "display_data"
    },
    {
     "name": "stderr",
     "output_type": "stream",
     "text": [
      "INFO:seq2seq_utils: Creating features from dataset file at cache_dir/\n"
     ]
    },
    {
     "data": {
      "application/vnd.jupyter.widget-view+json": {
       "model_id": "2c484e5efe9c4c1b81abb8f98bd2a2cc",
       "version_major": 2,
       "version_minor": 0
      },
      "text/plain": [
       "  0%|          | 0/1284 [00:00<?, ?it/s]"
      ]
     },
     "metadata": {},
     "output_type": "display_data"
    },
    {
     "name": "stderr",
     "output_type": "stream",
     "text": [
      "INFO:seq2seq_model:{'eval_loss': 0.39517636088110647, 'eval_acc': 0.9272237196765498}\n"
     ]
    },
    {
     "data": {
      "application/vnd.jupyter.widget-view+json": {
       "model_id": "a0217274fa1446998228df83b7a6e373",
       "version_major": 2,
       "version_minor": 0
      },
      "text/plain": [
       "Running Epoch 13 of 20:   0%|          | 0/253 [00:00<?, ?it/s]"
      ]
     },
     "metadata": {},
     "output_type": "display_data"
    },
    {
     "name": "stderr",
     "output_type": "stream",
     "text": [
      "INFO:seq2seq_utils: Creating features from dataset file at cache_dir/\n"
     ]
    },
    {
     "data": {
      "application/vnd.jupyter.widget-view+json": {
       "model_id": "00ee644bf0104f1da8b663cc806bdfa1",
       "version_major": 2,
       "version_minor": 0
      },
      "text/plain": [
       "  0%|          | 0/1284 [00:00<?, ?it/s]"
      ]
     },
     "metadata": {},
     "output_type": "display_data"
    },
    {
     "name": "stderr",
     "output_type": "stream",
     "text": [
      "INFO:seq2seq_model:{'eval_loss': 0.38539703841674033, 'eval_acc': 0.9259915286869465}\n"
     ]
    },
    {
     "data": {
      "application/vnd.jupyter.widget-view+json": {
       "model_id": "ea88bbf89440499cb9a8284e81b91ebd",
       "version_major": 2,
       "version_minor": 0
      },
      "text/plain": [
       "Running Epoch 14 of 20:   0%|          | 0/253 [00:00<?, ?it/s]"
      ]
     },
     "metadata": {},
     "output_type": "display_data"
    },
    {
     "name": "stderr",
     "output_type": "stream",
     "text": [
      "INFO:seq2seq_utils: Creating features from dataset file at cache_dir/\n"
     ]
    },
    {
     "data": {
      "application/vnd.jupyter.widget-view+json": {
       "model_id": "9d5692f019e440168236a949d1a66798",
       "version_major": 2,
       "version_minor": 0
      },
      "text/plain": [
       "  0%|          | 0/1284 [00:00<?, ?it/s]"
      ]
     },
     "metadata": {},
     "output_type": "display_data"
    },
    {
     "name": "stderr",
     "output_type": "stream",
     "text": [
      "INFO:seq2seq_model:{'eval_loss': 0.3968125297948255, 'eval_acc': 0.9274547554871005}\n"
     ]
    },
    {
     "data": {
      "application/vnd.jupyter.widget-view+json": {
       "model_id": "404c08022cdd476ba65ce7ca2bbb3691",
       "version_major": 2,
       "version_minor": 0
      },
      "text/plain": [
       "Running Epoch 15 of 20:   0%|          | 0/253 [00:00<?, ?it/s]"
      ]
     },
     "metadata": {},
     "output_type": "display_data"
    },
    {
     "name": "stderr",
     "output_type": "stream",
     "text": [
      "INFO:seq2seq_utils: Creating features from dataset file at cache_dir/\n"
     ]
    },
    {
     "data": {
      "application/vnd.jupyter.widget-view+json": {
       "model_id": "e16ee3ebc7284d83affb1db15788926d",
       "version_major": 2,
       "version_minor": 0
      },
      "text/plain": [
       "  0%|          | 0/1284 [00:00<?, ?it/s]"
      ]
     },
     "metadata": {},
     "output_type": "display_data"
    },
    {
     "name": "stderr",
     "output_type": "stream",
     "text": [
      "INFO:seq2seq_model:{'eval_loss': 0.41106409937004496, 'eval_acc': 0.9275317674239507}\n",
      "INFO:seq2seq_utils: Creating features from dataset file at cache_dir/\n"
     ]
    },
    {
     "data": {
      "application/vnd.jupyter.widget-view+json": {
       "model_id": "87f017bcbb66471cb2e3b79948d4f848",
       "version_major": 2,
       "version_minor": 0
      },
      "text/plain": [
       "  0%|          | 0/1284 [00:00<?, ?it/s]"
      ]
     },
     "metadata": {},
     "output_type": "display_data"
    },
    {
     "name": "stderr",
     "output_type": "stream",
     "text": [
      "INFO:seq2seq_model:{'eval_loss': 0.41100642471487475, 'eval_acc': 0.9282248748556026}\n"
     ]
    },
    {
     "data": {
      "application/vnd.jupyter.widget-view+json": {
       "model_id": "e8b5a1b8401e466d9d2f863fcdffc99e",
       "version_major": 2,
       "version_minor": 0
      },
      "text/plain": [
       "Running Epoch 16 of 20:   0%|          | 0/253 [00:00<?, ?it/s]"
      ]
     },
     "metadata": {},
     "output_type": "display_data"
    },
    {
     "name": "stderr",
     "output_type": "stream",
     "text": [
      "INFO:seq2seq_utils: Creating features from dataset file at cache_dir/\n"
     ]
    },
    {
     "data": {
      "application/vnd.jupyter.widget-view+json": {
       "model_id": "7625cd1cff9d4397ac1b4342b7260bd9",
       "version_major": 2,
       "version_minor": 0
      },
      "text/plain": [
       "  0%|          | 0/1284 [00:00<?, ?it/s]"
      ]
     },
     "metadata": {},
     "output_type": "display_data"
    },
    {
     "name": "stderr",
     "output_type": "stream",
     "text": [
      "INFO:seq2seq_model:{'eval_loss': 0.41384772008851817, 'eval_acc': 0.9282248748556026}\n"
     ]
    },
    {
     "data": {
      "application/vnd.jupyter.widget-view+json": {
       "model_id": "d5787f6941a042b2a1d64cb8d1838e35",
       "version_major": 2,
       "version_minor": 0
      },
      "text/plain": [
       "Running Epoch 17 of 20:   0%|          | 0/253 [00:00<?, ?it/s]"
      ]
     },
     "metadata": {},
     "output_type": "display_data"
    },
    {
     "name": "stderr",
     "output_type": "stream",
     "text": [
      "INFO:seq2seq_utils: Creating features from dataset file at cache_dir/\n"
     ]
    },
    {
     "data": {
      "application/vnd.jupyter.widget-view+json": {
       "model_id": "c98451a937234770a575645338afe63d",
       "version_major": 2,
       "version_minor": 0
      },
      "text/plain": [
       "  0%|          | 0/1284 [00:00<?, ?it/s]"
      ]
     },
     "metadata": {},
     "output_type": "display_data"
    },
    {
     "name": "stderr",
     "output_type": "stream",
     "text": [
      "INFO:seq2seq_model:{'eval_loss': 0.41559366294130773, 'eval_acc': 0.928378898729303}\n"
     ]
    },
    {
     "data": {
      "application/vnd.jupyter.widget-view+json": {
       "model_id": "9dbc3ae28deb4d0ba78f69ed1a7ffe31",
       "version_major": 2,
       "version_minor": 0
      },
      "text/plain": [
       "Running Epoch 18 of 20:   0%|          | 0/253 [00:00<?, ?it/s]"
      ]
     },
     "metadata": {},
     "output_type": "display_data"
    },
    {
     "name": "stderr",
     "output_type": "stream",
     "text": [
      "INFO:seq2seq_utils: Creating features from dataset file at cache_dir/\n"
     ]
    },
    {
     "data": {
      "application/vnd.jupyter.widget-view+json": {
       "model_id": "8455e7d0252d455ab3ca69678e443e0f",
       "version_major": 2,
       "version_minor": 0
      },
      "text/plain": [
       "  0%|          | 0/1284 [00:00<?, ?it/s]"
      ]
     },
     "metadata": {},
     "output_type": "display_data"
    },
    {
     "name": "stderr",
     "output_type": "stream",
     "text": [
      "INFO:seq2seq_model:{'eval_loss': 0.43124131961314943, 'eval_acc': 0.9287639584135541}\n"
     ]
    },
    {
     "data": {
      "application/vnd.jupyter.widget-view+json": {
       "model_id": "62108cd404cc47c8ae8821d280e1a9e7",
       "version_major": 2,
       "version_minor": 0
      },
      "text/plain": [
       "Running Epoch 19 of 20:   0%|          | 0/253 [00:00<?, ?it/s]"
      ]
     },
     "metadata": {},
     "output_type": "display_data"
    },
    {
     "name": "stderr",
     "output_type": "stream",
     "text": [
      "INFO:seq2seq_utils: Creating features from dataset file at cache_dir/\n"
     ]
    },
    {
     "data": {
      "application/vnd.jupyter.widget-view+json": {
       "model_id": "91825e64c7634c9184c427815fcc555f",
       "version_major": 2,
       "version_minor": 0
      },
      "text/plain": [
       "  0%|          | 0/1284 [00:00<?, ?it/s]"
      ]
     },
     "metadata": {},
     "output_type": "display_data"
    },
    {
     "name": "stderr",
     "output_type": "stream",
     "text": [
      "INFO:seq2seq_model:{'eval_loss': 0.4384798976876166, 'eval_acc': 0.9288409703504044}\n",
      "INFO:seq2seq_model:Saving model into ./exp/template\n",
      "INFO:seq2seq_model: Training of facebook/bart-large model complete. Saved to ./exp/template.\n"
     ]
    }
   ],
   "source": [
    "# Train the model\n",
    "model.train_model(train_df, eval_data=eval_df)"
   ]
  },
  {
   "cell_type": "code",
   "execution_count": 24,
   "id": "0ba31a2a-daf0-47cb-a36f-3f289392efa3",
   "metadata": {},
   "outputs": [
    {
     "name": "stderr",
     "output_type": "stream",
     "text": [
      "INFO:seq2seq_utils: Creating features from dataset file at cache_dir/\n"
     ]
    },
    {
     "data": {
      "application/vnd.jupyter.widget-view+json": {
       "model_id": "3ab2121f9927468597e31b49571882ba",
       "version_major": 2,
       "version_minor": 0
      },
      "text/plain": [
       "  0%|          | 0/1284 [00:00<?, ?it/s]"
      ]
     },
     "metadata": {},
     "output_type": "display_data"
    }
   ],
   "source": [
    "# Evaluate the model\n",
    "results = model.eval_model(eval_df, \n",
    "                           verbose = False, \n",
    "                           silent = True)"
   ]
  },
  {
   "cell_type": "code",
   "execution_count": 25,
   "id": "ac5b4cf4-07b8-43bb-9d06-b67e58f43947",
   "metadata": {},
   "outputs": [
    {
     "data": {
      "text/plain": [
       "{'eval_loss': 0.4384798976876166, 'eval_acc': 0.9288409703504044}"
      ]
     },
     "execution_count": 25,
     "metadata": {},
     "output_type": "execute_result"
    }
   ],
   "source": [
    "results"
   ]
  },
  {
   "cell_type": "code",
   "execution_count": 7,
   "id": "3a566a9e-91e6-423a-9659-5bce0bbc985e",
   "metadata": {},
   "outputs": [
    {
     "data": {
      "text/plain": [
       "'afpm represents companies including chevron corporation exxonmobil koch industries marathon petroleum and valero energy .'"
      ]
     },
     "execution_count": 7,
     "metadata": {},
     "output_type": "execute_result"
    }
   ],
   "source": [
    "eval_df['input_text'].iloc[1282]"
   ]
  },
  {
   "cell_type": "code",
   "execution_count": 8,
   "id": "3bc43b54-0e56-47f7-bebe-b02048273643",
   "metadata": {},
   "outputs": [
    {
     "data": {
      "text/plain": [
       "['koch industries is a PrivateCorp entity']"
      ]
     },
     "execution_count": 8,
     "metadata": {},
     "output_type": "execute_result"
    }
   ],
   "source": [
    "model.predict(['afpm represents companies including chevron corporation exxonmobil koch industries marathon petroleum and valero energy .'])"
   ]
  },
  {
   "cell_type": "code",
   "execution_count": 9,
   "id": "74f5e323-fbbe-4de6-84db-4932dffe8b47",
   "metadata": {},
   "outputs": [
    {
     "data": {
      "text/html": [
       "<div>\n",
       "<style scoped>\n",
       "    .dataframe tbody tr th:only-of-type {\n",
       "        vertical-align: middle;\n",
       "    }\n",
       "\n",
       "    .dataframe tbody tr th {\n",
       "        vertical-align: top;\n",
       "    }\n",
       "\n",
       "    .dataframe thead th {\n",
       "        text-align: right;\n",
       "    }\n",
       "</style>\n",
       "<table border=\"1\" class=\"dataframe\">\n",
       "  <thead>\n",
       "    <tr style=\"text-align: right;\">\n",
       "      <th></th>\n",
       "      <th>input_text</th>\n",
       "      <th>target_text</th>\n",
       "    </tr>\n",
       "  </thead>\n",
       "  <tbody>\n",
       "    <tr>\n",
       "      <th>0</th>\n",
       "      <td>eli lilly founder president of pharmaceutical ...</td>\n",
       "      <td>eli lilly and company is a PublicCorp entity</td>\n",
       "    </tr>\n",
       "    <tr>\n",
       "      <th>1</th>\n",
       "      <td>eli lilly founder president of pharmaceutical ...</td>\n",
       "      <td>eli lilly is an OtherPER entity</td>\n",
       "    </tr>\n",
       "    <tr>\n",
       "      <th>2</th>\n",
       "      <td>christoph haberland designed a new marble pulp...</td>\n",
       "      <td>italy is a HumanSettlement entity</td>\n",
       "    </tr>\n",
       "    <tr>\n",
       "      <th>3</th>\n",
       "      <td>christoph haberland designed a new marble pulp...</td>\n",
       "      <td>christoph haberland is an OtherPER entity</td>\n",
       "    </tr>\n",
       "    <tr>\n",
       "      <th>4</th>\n",
       "      <td>christoph haberland designed a new marble pulp...</td>\n",
       "      <td>pulpit is an OtherPROD entity</td>\n",
       "    </tr>\n",
       "    <tr>\n",
       "      <th>...</th>\n",
       "      <td>...</td>\n",
       "      <td>...</td>\n",
       "    </tr>\n",
       "    <tr>\n",
       "      <th>1279</th>\n",
       "      <td>afpm represents companies including chevron co...</td>\n",
       "      <td>exxonmobil is a PublicCorp entity</td>\n",
       "    </tr>\n",
       "    <tr>\n",
       "      <th>1280</th>\n",
       "      <td>afpm represents companies including chevron co...</td>\n",
       "      <td>valero energy is a PublicCorp entity</td>\n",
       "    </tr>\n",
       "    <tr>\n",
       "      <th>1281</th>\n",
       "      <td>afpm represents companies including chevron co...</td>\n",
       "      <td>marathon petroleum is a PublicCorp entity</td>\n",
       "    </tr>\n",
       "    <tr>\n",
       "      <th>1282</th>\n",
       "      <td>afpm represents companies including chevron co...</td>\n",
       "      <td>chevron corporation is a PublicCorp entity</td>\n",
       "    </tr>\n",
       "    <tr>\n",
       "      <th>1283</th>\n",
       "      <td>the jockey club decided not to re run the race...</td>\n",
       "      <td>jockey club is a PrivateCorp entity</td>\n",
       "    </tr>\n",
       "  </tbody>\n",
       "</table>\n",
       "<p>1284 rows × 2 columns</p>\n",
       "</div>"
      ],
      "text/plain": [
       "                                             input_text  \\\n",
       "0     eli lilly founder president of pharmaceutical ...   \n",
       "1     eli lilly founder president of pharmaceutical ...   \n",
       "2     christoph haberland designed a new marble pulp...   \n",
       "3     christoph haberland designed a new marble pulp...   \n",
       "4     christoph haberland designed a new marble pulp...   \n",
       "...                                                 ...   \n",
       "1279  afpm represents companies including chevron co...   \n",
       "1280  afpm represents companies including chevron co...   \n",
       "1281  afpm represents companies including chevron co...   \n",
       "1282  afpm represents companies including chevron co...   \n",
       "1283  the jockey club decided not to re run the race...   \n",
       "\n",
       "                                       target_text  \n",
       "0     eli lilly and company is a PublicCorp entity  \n",
       "1                  eli lilly is an OtherPER entity  \n",
       "2                italy is a HumanSettlement entity  \n",
       "3        christoph haberland is an OtherPER entity  \n",
       "4                    pulpit is an OtherPROD entity  \n",
       "...                                            ...  \n",
       "1279             exxonmobil is a PublicCorp entity  \n",
       "1280          valero energy is a PublicCorp entity  \n",
       "1281     marathon petroleum is a PublicCorp entity  \n",
       "1282    chevron corporation is a PublicCorp entity  \n",
       "1283           jockey club is a PrivateCorp entity  \n",
       "\n",
       "[1284 rows x 2 columns]"
      ]
     },
     "execution_count": 9,
     "metadata": {},
     "output_type": "execute_result"
    }
   ],
   "source": [
    "eval_df"
   ]
  },
  {
   "cell_type": "code",
   "execution_count": 11,
   "id": "8abf6710-e01f-4a56-a057-31407c5ccad6",
   "metadata": {},
   "outputs": [
    {
     "data": {
      "text/html": [
       "<div>\n",
       "<style scoped>\n",
       "    .dataframe tbody tr th:only-of-type {\n",
       "        vertical-align: middle;\n",
       "    }\n",
       "\n",
       "    .dataframe tbody tr th {\n",
       "        vertical-align: top;\n",
       "    }\n",
       "\n",
       "    .dataframe thead th {\n",
       "        text-align: right;\n",
       "    }\n",
       "</style>\n",
       "<table border=\"1\" class=\"dataframe\">\n",
       "  <thead>\n",
       "    <tr style=\"text-align: right;\">\n",
       "      <th></th>\n",
       "      <th>input_text</th>\n",
       "      <th>target_text</th>\n",
       "      <th>preds</th>\n",
       "    </tr>\n",
       "  </thead>\n",
       "  <tbody>\n",
       "    <tr>\n",
       "      <th>0</th>\n",
       "      <td>eli lilly founder president of pharmaceutical ...</td>\n",
       "      <td>eli lilly and company is a PublicCorp entity</td>\n",
       "      <td>[eli lilly is a Scientist entity]</td>\n",
       "    </tr>\n",
       "    <tr>\n",
       "      <th>1</th>\n",
       "      <td>eli lilly founder president of pharmaceutical ...</td>\n",
       "      <td>eli lilly is an OtherPER entity</td>\n",
       "      <td>[eli lilly is a Scientist entity]</td>\n",
       "    </tr>\n",
       "    <tr>\n",
       "      <th>2</th>\n",
       "      <td>christoph haberland designed a new marble pulp...</td>\n",
       "      <td>italy is a HumanSettlement entity</td>\n",
       "      <td>[pulpit is an OtherPROD entity]</td>\n",
       "    </tr>\n",
       "    <tr>\n",
       "      <th>3</th>\n",
       "      <td>christoph haberland designed a new marble pulp...</td>\n",
       "      <td>christoph haberland is an OtherPER entity</td>\n",
       "      <td>[pulpit is an OtherPROD entity]</td>\n",
       "    </tr>\n",
       "    <tr>\n",
       "      <th>4</th>\n",
       "      <td>christoph haberland designed a new marble pulp...</td>\n",
       "      <td>pulpit is an OtherPROD entity</td>\n",
       "      <td>[pulpit is an OtherPROD entity]</td>\n",
       "    </tr>\n",
       "    <tr>\n",
       "      <th>...</th>\n",
       "      <td>...</td>\n",
       "      <td>...</td>\n",
       "      <td>...</td>\n",
       "    </tr>\n",
       "    <tr>\n",
       "      <th>1279</th>\n",
       "      <td>afpm represents companies including chevron co...</td>\n",
       "      <td>exxonmobil is a PublicCorp entity</td>\n",
       "      <td>[koch industries is a PrivateCorp entity]</td>\n",
       "    </tr>\n",
       "    <tr>\n",
       "      <th>1280</th>\n",
       "      <td>afpm represents companies including chevron co...</td>\n",
       "      <td>valero energy is a PublicCorp entity</td>\n",
       "      <td>[koch industries is a PrivateCorp entity]</td>\n",
       "    </tr>\n",
       "    <tr>\n",
       "      <th>1281</th>\n",
       "      <td>afpm represents companies including chevron co...</td>\n",
       "      <td>marathon petroleum is a PublicCorp entity</td>\n",
       "      <td>[koch industries is a PrivateCorp entity]</td>\n",
       "    </tr>\n",
       "    <tr>\n",
       "      <th>1282</th>\n",
       "      <td>afpm represents companies including chevron co...</td>\n",
       "      <td>chevron corporation is a PublicCorp entity</td>\n",
       "      <td>[koch industries is a PrivateCorp entity]</td>\n",
       "    </tr>\n",
       "    <tr>\n",
       "      <th>1283</th>\n",
       "      <td>the jockey club decided not to re run the race...</td>\n",
       "      <td>jockey club is a PrivateCorp entity</td>\n",
       "      <td>[jockey club is a PrivateCorp entity]</td>\n",
       "    </tr>\n",
       "  </tbody>\n",
       "</table>\n",
       "<p>1284 rows × 3 columns</p>\n",
       "</div>"
      ],
      "text/plain": [
       "                                             input_text  \\\n",
       "0     eli lilly founder president of pharmaceutical ...   \n",
       "1     eli lilly founder president of pharmaceutical ...   \n",
       "2     christoph haberland designed a new marble pulp...   \n",
       "3     christoph haberland designed a new marble pulp...   \n",
       "4     christoph haberland designed a new marble pulp...   \n",
       "...                                                 ...   \n",
       "1279  afpm represents companies including chevron co...   \n",
       "1280  afpm represents companies including chevron co...   \n",
       "1281  afpm represents companies including chevron co...   \n",
       "1282  afpm represents companies including chevron co...   \n",
       "1283  the jockey club decided not to re run the race...   \n",
       "\n",
       "                                       target_text  \\\n",
       "0     eli lilly and company is a PublicCorp entity   \n",
       "1                  eli lilly is an OtherPER entity   \n",
       "2                italy is a HumanSettlement entity   \n",
       "3        christoph haberland is an OtherPER entity   \n",
       "4                    pulpit is an OtherPROD entity   \n",
       "...                                            ...   \n",
       "1279             exxonmobil is a PublicCorp entity   \n",
       "1280          valero energy is a PublicCorp entity   \n",
       "1281     marathon petroleum is a PublicCorp entity   \n",
       "1282    chevron corporation is a PublicCorp entity   \n",
       "1283           jockey club is a PrivateCorp entity   \n",
       "\n",
       "                                          preds  \n",
       "0             [eli lilly is a Scientist entity]  \n",
       "1             [eli lilly is a Scientist entity]  \n",
       "2               [pulpit is an OtherPROD entity]  \n",
       "3               [pulpit is an OtherPROD entity]  \n",
       "4               [pulpit is an OtherPROD entity]  \n",
       "...                                         ...  \n",
       "1279  [koch industries is a PrivateCorp entity]  \n",
       "1280  [koch industries is a PrivateCorp entity]  \n",
       "1281  [koch industries is a PrivateCorp entity]  \n",
       "1282  [koch industries is a PrivateCorp entity]  \n",
       "1283      [jockey club is a PrivateCorp entity]  \n",
       "\n",
       "[1284 rows x 3 columns]"
      ]
     },
     "execution_count": 11,
     "metadata": {},
     "output_type": "execute_result"
    }
   ],
   "source": [
    "eval_df['preds'] = [model.predict([x]) for x in eval_df['input_text']]\n",
    "eval_df"
   ]
  },
  {
   "cell_type": "code",
   "execution_count": 18,
   "id": "fd736e89-4639-4f80-b163-4461dee1f5c9",
   "metadata": {},
   "outputs": [
    {
     "data": {
      "text/html": [
       "<div>\n",
       "<style scoped>\n",
       "    .dataframe tbody tr th:only-of-type {\n",
       "        vertical-align: middle;\n",
       "    }\n",
       "\n",
       "    .dataframe tbody tr th {\n",
       "        vertical-align: top;\n",
       "    }\n",
       "\n",
       "    .dataframe thead th {\n",
       "        text-align: right;\n",
       "    }\n",
       "</style>\n",
       "<table border=\"1\" class=\"dataframe\">\n",
       "  <thead>\n",
       "    <tr style=\"text-align: right;\">\n",
       "      <th></th>\n",
       "      <th>input_text</th>\n",
       "      <th>target_text</th>\n",
       "      <th>preds</th>\n",
       "    </tr>\n",
       "  </thead>\n",
       "  <tbody>\n",
       "    <tr>\n",
       "      <th>0</th>\n",
       "      <td>eli lilly founder president of pharmaceutical ...</td>\n",
       "      <td>eli lilly and company is a PublicCorp entity</td>\n",
       "      <td>[eli lilly is a Scientist entity]</td>\n",
       "    </tr>\n",
       "    <tr>\n",
       "      <th>1</th>\n",
       "      <td>eli lilly founder president of pharmaceutical ...</td>\n",
       "      <td>eli lilly is an OtherPER entity</td>\n",
       "      <td>[eli lilly is a Scientist entity]</td>\n",
       "    </tr>\n",
       "    <tr>\n",
       "      <th>2</th>\n",
       "      <td>christoph haberland designed a new marble pulp...</td>\n",
       "      <td>italy is a HumanSettlement entity</td>\n",
       "      <td>[pulpit is an OtherPROD entity]</td>\n",
       "    </tr>\n",
       "    <tr>\n",
       "      <th>3</th>\n",
       "      <td>christoph haberland designed a new marble pulp...</td>\n",
       "      <td>christoph haberland is an OtherPER entity</td>\n",
       "      <td>[pulpit is an OtherPROD entity]</td>\n",
       "    </tr>\n",
       "    <tr>\n",
       "      <th>4</th>\n",
       "      <td>christoph haberland designed a new marble pulp...</td>\n",
       "      <td>pulpit is an OtherPROD entity</td>\n",
       "      <td>[pulpit is an OtherPROD entity]</td>\n",
       "    </tr>\n",
       "    <tr>\n",
       "      <th>...</th>\n",
       "      <td>...</td>\n",
       "      <td>...</td>\n",
       "      <td>...</td>\n",
       "    </tr>\n",
       "    <tr>\n",
       "      <th>1279</th>\n",
       "      <td>afpm represents companies including chevron co...</td>\n",
       "      <td>exxonmobil is a PublicCorp entity</td>\n",
       "      <td>[koch industries is a PrivateCorp entity]</td>\n",
       "    </tr>\n",
       "    <tr>\n",
       "      <th>1280</th>\n",
       "      <td>afpm represents companies including chevron co...</td>\n",
       "      <td>valero energy is a PublicCorp entity</td>\n",
       "      <td>[koch industries is a PrivateCorp entity]</td>\n",
       "    </tr>\n",
       "    <tr>\n",
       "      <th>1281</th>\n",
       "      <td>afpm represents companies including chevron co...</td>\n",
       "      <td>marathon petroleum is a PublicCorp entity</td>\n",
       "      <td>[koch industries is a PrivateCorp entity]</td>\n",
       "    </tr>\n",
       "    <tr>\n",
       "      <th>1282</th>\n",
       "      <td>afpm represents companies including chevron co...</td>\n",
       "      <td>chevron corporation is a PublicCorp entity</td>\n",
       "      <td>[koch industries is a PrivateCorp entity]</td>\n",
       "    </tr>\n",
       "    <tr>\n",
       "      <th>1283</th>\n",
       "      <td>the jockey club decided not to re run the race...</td>\n",
       "      <td>jockey club is a PrivateCorp entity</td>\n",
       "      <td>[jockey club is a PrivateCorp entity]</td>\n",
       "    </tr>\n",
       "  </tbody>\n",
       "</table>\n",
       "<p>1284 rows × 3 columns</p>\n",
       "</div>"
      ],
      "text/plain": [
       "                                             input_text  \\\n",
       "0     eli lilly founder president of pharmaceutical ...   \n",
       "1     eli lilly founder president of pharmaceutical ...   \n",
       "2     christoph haberland designed a new marble pulp...   \n",
       "3     christoph haberland designed a new marble pulp...   \n",
       "4     christoph haberland designed a new marble pulp...   \n",
       "...                                                 ...   \n",
       "1279  afpm represents companies including chevron co...   \n",
       "1280  afpm represents companies including chevron co...   \n",
       "1281  afpm represents companies including chevron co...   \n",
       "1282  afpm represents companies including chevron co...   \n",
       "1283  the jockey club decided not to re run the race...   \n",
       "\n",
       "                                       target_text  \\\n",
       "0     eli lilly and company is a PublicCorp entity   \n",
       "1                  eli lilly is an OtherPER entity   \n",
       "2                italy is a HumanSettlement entity   \n",
       "3        christoph haberland is an OtherPER entity   \n",
       "4                    pulpit is an OtherPROD entity   \n",
       "...                                            ...   \n",
       "1279             exxonmobil is a PublicCorp entity   \n",
       "1280          valero energy is a PublicCorp entity   \n",
       "1281     marathon petroleum is a PublicCorp entity   \n",
       "1282    chevron corporation is a PublicCorp entity   \n",
       "1283           jockey club is a PrivateCorp entity   \n",
       "\n",
       "                                          preds  \n",
       "0             [eli lilly is a Scientist entity]  \n",
       "1             [eli lilly is a Scientist entity]  \n",
       "2               [pulpit is an OtherPROD entity]  \n",
       "3               [pulpit is an OtherPROD entity]  \n",
       "4               [pulpit is an OtherPROD entity]  \n",
       "...                                         ...  \n",
       "1279  [koch industries is a PrivateCorp entity]  \n",
       "1280  [koch industries is a PrivateCorp entity]  \n",
       "1281  [koch industries is a PrivateCorp entity]  \n",
       "1282  [koch industries is a PrivateCorp entity]  \n",
       "1283      [jockey club is a PrivateCorp entity]  \n",
       "\n",
       "[1284 rows x 3 columns]"
      ]
     },
     "execution_count": 18,
     "metadata": {},
     "output_type": "execute_result"
    }
   ],
   "source": [
    "eval_df"
   ]
  },
  {
   "cell_type": "code",
   "execution_count": null,
   "id": "e749e351-ff85-486e-8615-b9888ee5afa3",
   "metadata": {},
   "outputs": [],
   "source": []
  }
 ],
 "metadata": {
  "kernelspec": {
   "display_name": "Python 3 (ipykernel)",
   "language": "python",
   "name": "python3"
  },
  "language_info": {
   "codemirror_mode": {
    "name": "ipython",
    "version": 3
   },
   "file_extension": ".py",
   "mimetype": "text/x-python",
   "name": "python",
   "nbconvert_exporter": "python",
   "pygments_lexer": "ipython3",
   "version": "3.7.13"
  }
 },
 "nbformat": 4,
 "nbformat_minor": 5
}
